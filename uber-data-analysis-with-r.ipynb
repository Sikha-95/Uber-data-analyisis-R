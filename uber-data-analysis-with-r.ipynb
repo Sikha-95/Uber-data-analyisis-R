{
 "cells": [
  {
   "cell_type": "code",
   "execution_count": 1,
   "id": "3eb77f6d",
   "metadata": {
    "_cell_guid": "b1076dfc-b9ad-4769-8c92-a6c4dae69d19",
    "_uuid": "8f2839f25d086af736a60e9eeb907d3b93b6e0e5",
    "execution": {
     "iopub.execute_input": "2022-08-19T18:00:35.682702Z",
     "iopub.status.busy": "2022-08-19T18:00:35.676760Z",
     "iopub.status.idle": "2022-08-19T18:00:36.232958Z",
     "shell.execute_reply": "2022-08-19T18:00:36.228898Z"
    },
    "papermill": {
     "duration": 0.593121,
     "end_time": "2022-08-19T18:00:36.242809",
     "exception": true,
     "start_time": "2022-08-19T18:00:35.649688",
     "status": "failed"
    },
    "tags": []
   },
   "outputs": [
    {
     "ename": "ERROR",
     "evalue": "Error in parse(text = x, srcfile = src): <text>:5:8: unexpected symbol\n4: \n5: import numpy\n          ^\n",
     "output_type": "error",
     "traceback": [
      "Error in parse(text = x, srcfile = src): <text>:5:8: unexpected symbol\n4: \n5: import numpy\n          ^\nTraceback:\n"
     ]
    }
   ],
   "source": [
    "# This Python 3 environment comes with many helpful analytics libraries installed\n",
    "# It is defined by the kaggle/python Docker image: https://github.com/kaggle/docker-python\n",
    "# For example, here's several helpful packages to load\n",
    "\n",
    "import numpy as np # linear algebra\n",
    "import pandas as pd # data processing, CSV file I/O (e.g. pd.read_csv)\n",
    "\n",
    "# Input data files are available in the read-only \"../input/\" directory\n",
    "# For example, running this (by clicking run or pressing Shift+Enter) will list all files under the input directory\n",
    "\n",
    "import os\n",
    "for dirname, _, filenames in os.walk('/kaggle/input'):\n",
    "    for filename in filenames:\n",
    "        print(os.path.join(dirname, filename))\n",
    "\n",
    "# You can write up to 20GB to the current directory (/kaggle/working/) that gets preserved as output when you create a version using \"Save & Run All\" \n",
    "# You can also write temporary files to /kaggle/temp/, but they won't be saved outside of the current session"
   ]
  },
  {
   "cell_type": "markdown",
   "id": "f1d598dd",
   "metadata": {
    "papermill": {
     "duration": null,
     "end_time": null,
     "exception": null,
     "start_time": null,
     "status": "pending"
    },
    "tags": []
   },
   "source": [
    "# Uber Data Analysis Through R \n",
    "## Data storytelling  is an important components of machine learning through which companies are able to understand the background of various operations.With the help of visualization, companies can avil the benifits of understanding the complex data and gain insights that would help them to craft decisions. Will learn how implement the ggplot2 on uberdata set and will learn the art the visualization.\n",
    "\n",
    "# Important : The goal of this project is to learn visualization in R. I do not claim copyright over any of the content here.\n",
    "\n",
    "# source: https://data-flair.training/blogs/r-data-science-project-uber-data-analysis/\n",
    "\n",
    "# Important Packages\n",
    "## We need to import some packages that will be used  during the visulatization. Some of the important packages are:-\n",
    "\n",
    "# * ggplot2\n",
    "##  It is used for creating aesthetic visualization plots.\n",
    "\n",
    "# * ggthemes\n",
    "## It is used to create extra themes and scales with the mainstream ggplot2.\n",
    "\n",
    "# * lubridate \n",
    "## In order to undersatand the data  in seperate time. this package will be used.\n",
    "\n",
    "# * dplyr\n",
    "## This packages is the lingua franca of data manipulation in R \n",
    "\n",
    "# * tidyr \n",
    "##  Its is udes to tidy your data.\n",
    "\n",
    "# * DT \n",
    "##  It helps in interfacting javascript librray called- Datatables.\n",
    "\n",
    "# * scales\n",
    "## With the help of graphical scales, we can automatically map the data to the correct scales with well-placed axes and legends\n",
    "\n"
   ]
  },
  {
   "cell_type": "markdown",
   "id": "5bff578b",
   "metadata": {
    "papermill": {
     "duration": null,
     "end_time": null,
     "exception": null,
     "start_time": null,
     "status": "pending"
    },
    "tags": []
   },
   "source": []
  },
  {
   "cell_type": "code",
   "execution_count": null,
   "id": "0277e4bf",
   "metadata": {
    "execution": {
     "iopub.execute_input": "2022-08-19T17:04:03.823305Z",
     "iopub.status.busy": "2022-08-19T17:04:03.821681Z",
     "iopub.status.idle": "2022-08-19T17:04:04.617027Z"
    },
    "papermill": {
     "duration": null,
     "end_time": null,
     "exception": null,
     "start_time": null,
     "status": "pending"
    },
    "tags": []
   },
   "outputs": [],
   "source": [
    "library(ggplot2)\n",
    "library(ggthemes)\n",
    "library(lubridate)\n",
    "library(dplyr)\n",
    "library(tidyr)\n",
    "library(DT)\n",
    "library(scales)\n"
   ]
  },
  {
   "cell_type": "code",
   "execution_count": null,
   "id": "5d94c3ee",
   "metadata": {
    "execution": {
     "iopub.execute_input": "2022-08-19T17:03:57.439871Z",
     "iopub.status.busy": "2022-08-19T17:03:57.437811Z",
     "iopub.status.idle": "2022-08-19T17:03:57.477390Z"
    },
    "papermill": {
     "duration": null,
     "end_time": null,
     "exception": null,
     "start_time": null,
     "status": "pending"
    },
    "tags": []
   },
   "outputs": [],
   "source": [
    "library(dplyr)"
   ]
  },
  {
   "cell_type": "code",
   "execution_count": null,
   "id": "45f397cd",
   "metadata": {
    "execution": {
     "iopub.execute_input": "2022-08-19T17:03:52.629354Z",
     "iopub.status.busy": "2022-08-19T17:03:52.627753Z",
     "iopub.status.idle": "2022-08-19T17:03:52.653820Z"
    },
    "papermill": {
     "duration": null,
     "end_time": null,
     "exception": null,
     "start_time": null,
     "status": "pending"
    },
    "tags": []
   },
   "outputs": [],
   "source": [
    "colors = c(\"#CC1011\", \"#665555\", \"#05a399\", \"#cfcaca\", \"#f5e840\", \"#0683c9\", \"#e075b0\")\n",
    "colors\n",
    "           "
   ]
  },
  {
   "cell_type": "code",
   "execution_count": null,
   "id": "a957b2d3",
   "metadata": {
    "execution": {
     "iopub.execute_input": "2022-08-19T17:03:37.711046Z",
     "iopub.status.busy": "2022-08-19T17:03:37.709196Z",
     "iopub.status.idle": "2022-08-19T17:03:48.485801Z"
    },
    "papermill": {
     "duration": null,
     "end_time": null,
     "exception": null,
     "start_time": null,
     "status": "pending"
    },
    "tags": []
   },
   "outputs": [],
   "source": [
    "#  read the dat for each month \n",
    "apr <- read.csv(\"../input/uber-new-york-data-analysis/uber-raw-data-apr14.csv\")\n",
    "may <- read.csv(\"../input/uber-new-york-data-analysis/uber-raw-data-may14.csv\")\n",
    "june <- read.csv(\"../input/uber-new-york-data-analysis/uber-raw-data-jun14.csv\")\n",
    "july <- read.csv(\"../input/uber-new-york-data-analysis/uber-raw-data-jul14.csv\")\n",
    "aug <- read.csv(\"../input/uber-new-york-data-analysis/uber-raw-data-aug14.csv\")\n",
    "sept <- read.csv(\"../input/uber-new-york-data-analysis/uber-raw-data-sep14.csv\")"
   ]
  },
  {
   "cell_type": "code",
   "execution_count": null,
   "id": "0427ac52",
   "metadata": {
    "execution": {
     "iopub.execute_input": "2022-08-19T17:05:46.218092Z",
     "iopub.status.busy": "2022-08-19T17:05:46.216463Z",
     "iopub.status.idle": "2022-08-19T17:05:47.657956Z"
    },
    "papermill": {
     "duration": null,
     "end_time": null,
     "exception": null,
     "start_time": null,
     "status": "pending"
    },
    "tags": []
   },
   "outputs": [],
   "source": [
    "# Combine the data together \n",
    "data <- rbind(apr, may, june, july, aug, sept)\n",
    "cat(\"The dimensions of the data are:\", dim(data))"
   ]
  },
  {
   "cell_type": "code",
   "execution_count": null,
   "id": "365bcb92",
   "metadata": {
    "execution": {
     "iopub.execute_input": "2022-08-19T17:05:57.171662Z",
     "iopub.status.busy": "2022-08-19T17:05:57.170004Z",
     "iopub.status.idle": "2022-08-19T17:05:57.201128Z"
    },
    "papermill": {
     "duration": null,
     "end_time": null,
     "exception": null,
     "start_time": null,
     "status": "pending"
    },
    "tags": []
   },
   "outputs": [],
   "source": [
    "head(data)"
   ]
  },
  {
   "cell_type": "markdown",
   "id": "8f329f32",
   "metadata": {
    "papermill": {
     "duration": null,
     "end_time": null,
     "exception": null,
     "start_time": null,
     "status": "pending"
    },
    "tags": []
   },
   "source": [
    "## Creating appropiate formating of Date.Time column and creating factor of time objects like day,month , year etc"
   ]
  },
  {
   "cell_type": "code",
   "execution_count": null,
   "id": "071e8497",
   "metadata": {
    "execution": {
     "iopub.execute_input": "2022-08-19T17:13:36.508898Z",
     "iopub.status.busy": "2022-08-19T17:13:36.507146Z",
     "iopub.status.idle": "2022-08-19T17:14:01.094036Z"
    },
    "papermill": {
     "duration": null,
     "end_time": null,
     "exception": null,
     "start_time": null,
     "status": "pending"
    },
    "tags": []
   },
   "outputs": [],
   "source": [
    "data$Date.Time <- as.POSIXct(data$Date.Time, format = \"%m/%d/%Y %H:%M:%S\")\n",
    "data$Time <- format(as.POSIXct(data$Date.Time, format = \n",
    "                              \"%m/%d%Y %H:%M:%S\"), format=\"%H:%M:%S\")\n",
    "data$Date.Time <- ymd_hms(data$Date.Time)"
   ]
  },
  {
   "cell_type": "code",
   "execution_count": null,
   "id": "4ce45cf2",
   "metadata": {
    "execution": {
     "iopub.execute_input": "2022-08-19T17:19:29.140161Z",
     "iopub.status.busy": "2022-08-19T17:19:29.138556Z",
     "iopub.status.idle": "2022-08-19T17:19:44.944192Z"
    },
    "papermill": {
     "duration": null,
     "end_time": null,
     "exception": null,
     "start_time": null,
     "status": "pending"
    },
    "tags": []
   },
   "outputs": [],
   "source": [
    "##  Creating Individual Columns for month, day and year\n",
    "\n",
    "data$day <- factor(day(data$Date.Time))\n",
    "data$month <- factor(month(data$Date.Time, label=TRUE))\n",
    "data$year <- factor(year(data$Date.Time))\n",
    "data$dayofweek <- factor(wday(data$Date.Time, label=TRUE))"
   ]
  },
  {
   "cell_type": "code",
   "execution_count": null,
   "id": "495480d9",
   "metadata": {
    "execution": {
     "iopub.execute_input": "2022-08-19T17:22:03.835891Z",
     "iopub.status.busy": "2022-08-19T17:22:03.834017Z",
     "iopub.status.idle": "2022-08-19T17:22:18.792766Z"
    },
    "papermill": {
     "duration": null,
     "end_time": null,
     "exception": null,
     "start_time": null,
     "status": "pending"
    },
    "tags": []
   },
   "outputs": [],
   "source": [
    "# Adding time variable as well \n",
    "data$second = factor(second(hms(data$Time)))\n",
    "data$minute = factor(minute(hms(data$Time)))\n",
    "data$hour = factor(hour(hms(data$Time)))"
   ]
  },
  {
   "cell_type": "code",
   "execution_count": null,
   "id": "ecb2e1b9",
   "metadata": {
    "execution": {
     "iopub.execute_input": "2022-08-19T17:22:27.158496Z",
     "iopub.status.busy": "2022-08-19T17:22:27.156722Z",
     "iopub.status.idle": "2022-08-19T17:22:27.186800Z"
    },
    "papermill": {
     "duration": null,
     "end_time": null,
     "exception": null,
     "start_time": null,
     "status": "pending"
    },
    "tags": []
   },
   "outputs": [],
   "source": [
    "head(data)"
   ]
  },
  {
   "cell_type": "markdown",
   "id": "e913c175",
   "metadata": {
    "papermill": {
     "duration": null,
     "end_time": null,
     "exception": null,
     "start_time": null,
     "status": "pending"
    },
    "tags": []
   },
   "source": [
    "# Data Visualization \n",
    "\n",
    "## Plotting the trips by hour in a day "
   ]
  },
  {
   "cell_type": "code",
   "execution_count": null,
   "id": "43b1f4a6",
   "metadata": {
    "execution": {
     "iopub.execute_input": "2022-08-19T17:24:23.514228Z",
     "iopub.status.busy": "2022-08-19T17:24:23.512467Z",
     "iopub.status.idle": "2022-08-19T17:24:23.879848Z"
    },
    "papermill": {
     "duration": null,
     "end_time": null,
     "exception": null,
     "start_time": null,
     "status": "pending"
    },
    "tags": []
   },
   "outputs": [],
   "source": [
    "hourly_data <- data %>%\n",
    "group_by(hour)%>%\n",
    "dplyr::summarize(Total=n())\n",
    "\n",
    "datatable(hourly_data)\n"
   ]
  },
  {
   "cell_type": "code",
   "execution_count": null,
   "id": "4b9f1ae1",
   "metadata": {
    "execution": {
     "iopub.execute_input": "2022-08-19T17:28:34.033082Z",
     "iopub.status.busy": "2022-08-19T17:28:34.031422Z",
     "iopub.status.idle": "2022-08-19T17:28:34.573040Z"
    },
    "papermill": {
     "duration": null,
     "end_time": null,
     "exception": null,
     "start_time": null,
     "status": "pending"
    },
    "tags": []
   },
   "outputs": [],
   "source": [
    "## Plot the data by hour \n",
    "ggplot(hourly_data, aes(hour,Total)) +\n",
    "geom_bar(stat=\"identity\",\n",
    "        fill=\"steelblue\",\n",
    "        color=\"red\")+\n",
    "ggtitle(\"Trips every hour\", subtitle = \" aggregated today\")+\n",
    "theme(legend.position = \"none\",\n",
    "     plot.title = element_text(hjust = 0.5),\n",
    "     plot.subtitle = element_text(hjust=0.5))+\n",
    "scale_y_continuous(labels=comma)"
   ]
  },
  {
   "cell_type": "markdown",
   "id": "c1ba07b5",
   "metadata": {
    "papermill": {
     "duration": null,
     "end_time": null,
     "exception": null,
     "start_time": null,
     "status": "pending"
    },
    "tags": []
   },
   "source": [
    "## Plotting trips by hour and month \n"
   ]
  },
  {
   "cell_type": "code",
   "execution_count": null,
   "id": "1dbd181a",
   "metadata": {
    "execution": {
     "iopub.execute_input": "2022-08-19T17:31:43.035754Z",
     "iopub.status.busy": "2022-08-19T17:31:43.033911Z",
     "iopub.status.idle": "2022-08-19T17:31:43.791821Z"
    },
    "papermill": {
     "duration": null,
     "end_time": null,
     "exception": null,
     "start_time": null,
     "status": "pending"
    },
    "tags": []
   },
   "outputs": [],
   "source": [
    "# Aggregate the data by month and hour \n",
    "month_hour_data <- data %>% group_by(month, hour) %>% dplyr:: summarize(Total=n())\n",
    "ggplot(month_hour_data , aes(hour, Total, fill= month))+\n",
    "geom_bar(stat = \"identity\")+\n",
    "ggtitle(\"Trips by hour and Month\") +\n",
    "scale_y_continuous(labels = comma)"
   ]
  },
  {
   "cell_type": "markdown",
   "id": "a0640222",
   "metadata": {
    "papermill": {
     "duration": null,
     "end_time": null,
     "exception": null,
     "start_time": null,
     "status": "pending"
    },
    "tags": []
   },
   "source": [
    "## Plotting data by trips during every day of the month"
   ]
  },
  {
   "cell_type": "code",
   "execution_count": null,
   "id": "e1255677",
   "metadata": {
    "execution": {
     "iopub.execute_input": "2022-08-19T17:33:34.325607Z",
     "iopub.status.busy": "2022-08-19T17:33:34.323892Z",
     "iopub.status.idle": "2022-08-19T17:33:34.576324Z"
    },
    "papermill": {
     "duration": null,
     "end_time": null,
     "exception": null,
     "start_time": null,
     "status": "pending"
    },
    "tags": []
   },
   "outputs": [],
   "source": [
    "# Aggregate data by day and of the month \n",
    "day_data <- data %>% group_by(day) %>% dplyr:: summarize(Trips = n())\n",
    "day_data"
   ]
  },
  {
   "cell_type": "code",
   "execution_count": null,
   "id": "dd672ad7",
   "metadata": {
    "execution": {
     "iopub.execute_input": "2022-08-19T17:35:47.752497Z",
     "iopub.status.busy": "2022-08-19T17:35:47.750671Z",
     "iopub.status.idle": "2022-08-19T17:35:47.995062Z"
    },
    "papermill": {
     "duration": null,
     "end_time": null,
     "exception": null,
     "start_time": null,
     "status": "pending"
    },
    "tags": []
   },
   "outputs": [],
   "source": [
    "# Plot the data for the day \n",
    "ggplot(day_data, aes(day,Trips)) +\n",
    "geom_bar(stat =\"identity\", fill = \"steelblue\") +\n",
    "ggtitle(\"Trips by day of the month\")+\n",
    "theme(legend.position = \"none\")+\n",
    "scale_y_continuous(label = comma)"
   ]
  },
  {
   "cell_type": "code",
   "execution_count": null,
   "id": "31443c22",
   "metadata": {
    "execution": {
     "iopub.execute_input": "2022-08-19T17:37:14.032311Z",
     "iopub.status.busy": "2022-08-19T17:37:14.030504Z",
     "iopub.status.idle": "2022-08-19T17:37:14.254743Z"
    },
    "papermill": {
     "duration": null,
     "end_time": null,
     "exception": null,
     "start_time": null,
     "status": "pending"
    },
    "tags": []
   },
   "outputs": [],
   "source": [
    "# collect data by day of week and month \n",
    "day_month_data <- data %>% group_by(dayofweek, month) %>%\n",
    "dplyr::summarize(Trips = n())\n",
    "day_month_data"
   ]
  },
  {
   "cell_type": "code",
   "execution_count": null,
   "id": "3fd10208",
   "metadata": {
    "execution": {
     "iopub.execute_input": "2022-08-19T17:39:42.100057Z",
     "iopub.status.busy": "2022-08-19T17:39:42.097916Z",
     "iopub.status.idle": "2022-08-19T17:39:42.473043Z"
    },
    "papermill": {
     "duration": null,
     "end_time": null,
     "exception": null,
     "start_time": null,
     "status": "pending"
    },
    "tags": []
   },
   "outputs": [],
   "source": [
    "# Plot the above data \n",
    "ggplot(day_month_data, aes(dayofweek, Trips, fill = month))+\n",
    "geom_bar(stat = \"identity\", aes (fill=month),position = \"dodge\")+\n",
    "ggtitle(\"Trias by day and month\")+\n",
    "scale_y_continuous(labels = comma)+\n",
    "scale_fill_manual(values = colors)"
   ]
  },
  {
   "cell_type": "markdown",
   "id": "fc04eba2",
   "metadata": {
    "papermill": {
     "duration": null,
     "end_time": null,
     "exception": null,
     "start_time": null,
     "status": "pending"
    },
    "tags": []
   },
   "source": [
    "\n",
    "# Number of trips place during month in a year "
   ]
  },
  {
   "cell_type": "code",
   "execution_count": null,
   "id": "b991b9d8",
   "metadata": {
    "execution": {
     "iopub.execute_input": "2022-08-19T17:40:59.877870Z",
     "iopub.status.busy": "2022-08-19T17:40:59.876088Z",
     "iopub.status.idle": "2022-08-19T17:41:00.008493Z"
    },
    "papermill": {
     "duration": null,
     "end_time": null,
     "exception": null,
     "start_time": null,
     "status": "pending"
    },
    "tags": []
   },
   "outputs": [],
   "source": [
    "month_data <- data %>% group_by(month) %>% dplyr:: summarize(Total=n())\n",
    "month_data"
   ]
  },
  {
   "cell_type": "markdown",
   "id": "7f0d0020",
   "metadata": {
    "papermill": {
     "duration": null,
     "end_time": null,
     "exception": null,
     "start_time": null,
     "status": "pending"
    },
    "tags": []
   },
   "source": [
    "# Heatmap visualtization of day, hour and month \n",
    "\n",
    "## Heat map by hour and day \n"
   ]
  },
  {
   "cell_type": "code",
   "execution_count": null,
   "id": "fc43e0b3",
   "metadata": {
    "execution": {
     "iopub.execute_input": "2022-08-19T17:42:56.804155Z",
     "iopub.status.busy": "2022-08-19T17:42:56.801987Z",
     "iopub.status.idle": "2022-08-19T17:42:57.133124Z"
    },
    "papermill": {
     "duration": null,
     "end_time": null,
     "exception": null,
     "start_time": null,
     "status": "pending"
    },
    "tags": []
   },
   "outputs": [],
   "source": [
    "day_hour_data <- data %>% group_by(day,hour)%>%dplyr:: summarize(Total= n())\n",
    "datatable(day_hour_data)"
   ]
  },
  {
   "cell_type": "code",
   "execution_count": null,
   "id": "96418ef1",
   "metadata": {
    "execution": {
     "iopub.execute_input": "2022-08-19T17:44:44.191128Z",
     "iopub.status.busy": "2022-08-19T17:44:44.189556Z",
     "iopub.status.idle": "2022-08-19T17:44:44.487154Z"
    },
    "papermill": {
     "duration": null,
     "end_time": null,
     "exception": null,
     "start_time": null,
     "status": "pending"
    },
    "tags": []
   },
   "outputs": [],
   "source": [
    "# plot heat map \n",
    "ggplot(day_hour_data, aes(day,hour, fill = Total))+\n",
    "geom_tile(color = \"white\")+\n",
    "ggtitle(\"Heat Map by Hour and day \")"
   ]
  },
  {
   "cell_type": "code",
   "execution_count": null,
   "id": "8ca1cc65",
   "metadata": {
    "papermill": {
     "duration": null,
     "end_time": null,
     "exception": null,
     "start_time": null,
     "status": "pending"
    },
    "tags": []
   },
   "outputs": [],
   "source": [
    "# Plot heat map by day and month "
   ]
  },
  {
   "cell_type": "code",
   "execution_count": null,
   "id": "214b49c3",
   "metadata": {
    "execution": {
     "iopub.execute_input": "2022-08-19T17:46:13.302339Z",
     "iopub.status.busy": "2022-08-19T17:46:13.300671Z",
     "iopub.status.idle": "2022-08-19T17:46:13.560963Z"
    },
    "papermill": {
     "duration": null,
     "end_time": null,
     "exception": null,
     "start_time": null,
     "status": "pending"
    },
    "tags": []
   },
   "outputs": [],
   "source": [
    "# By day and month \n",
    "month_day_data <- data %>% group_by(month, day) %>% \n",
    "dplyr::summarize(Trips = n())\n",
    "month_day_data"
   ]
  },
  {
   "cell_type": "code",
   "execution_count": null,
   "id": "29eab4dc",
   "metadata": {
    "execution": {
     "iopub.execute_input": "2022-08-19T17:47:57.046674Z",
     "iopub.status.busy": "2022-08-19T17:47:57.044923Z",
     "iopub.status.idle": "2022-08-19T17:47:57.325067Z"
    },
    "papermill": {
     "duration": null,
     "end_time": null,
     "exception": null,
     "start_time": null,
     "status": "pending"
    },
    "tags": []
   },
   "outputs": [],
   "source": [
    "# Plot the heat map \n",
    "ggplot(month_day_data, aes(day, month, fill = Trips)) +\n",
    "geom_tile(color= \"white\")+\n",
    "ggtitle(\"Heat Map by month and day \")"
   ]
  },
  {
   "cell_type": "code",
   "execution_count": null,
   "id": "51c2a8f2",
   "metadata": {
    "execution": {
     "iopub.execute_input": "2022-08-19T17:49:27.610777Z",
     "iopub.status.busy": "2022-08-19T17:49:27.608772Z",
     "iopub.status.idle": "2022-08-19T17:49:27.879797Z"
    },
    "papermill": {
     "duration": null,
     "end_time": null,
     "exception": null,
     "start_time": null,
     "status": "pending"
    },
    "tags": []
   },
   "outputs": [],
   "source": [
    "# Plot heatmap by day of the week and month \n",
    "ggplot(day_month_data ,aes(dayofweek, month, fill = Trips))+\n",
    "geom_tile(color = \"white\")+\n",
    "ggtitle(\"Heat map by month and day\")"
   ]
  },
  {
   "cell_type": "markdown",
   "id": "7b09a316",
   "metadata": {
    "papermill": {
     "duration": null,
     "end_time": null,
     "exception": null,
     "start_time": null,
     "status": "pending"
    },
    "tags": []
   },
   "source": [
    "# Creating map visualization of rides in NYC \n"
   ]
  },
  {
   "cell_type": "code",
   "execution_count": null,
   "id": "dd132f20",
   "metadata": {
    "execution": {
     "iopub.execute_input": "2022-08-19T17:56:23.058972Z",
     "iopub.status.busy": "2022-08-19T17:56:23.057064Z",
     "iopub.status.idle": "2022-08-19T17:56:23.080261Z"
    },
    "papermill": {
     "duration": null,
     "end_time": null,
     "exception": null,
     "start_time": null,
     "status": "pending"
    },
    "tags": []
   },
   "outputs": [],
   "source": [
    "# set map constants \n",
    "\n",
    "min_lat <- 40 \n",
    "max_lat <- 40.91\n",
    "min_long <- -74.15\n",
    "max_long <- -73.7004"
   ]
  },
  {
   "cell_type": "code",
   "execution_count": null,
   "id": "b727da6e",
   "metadata": {
    "execution": {
     "iopub.execute_input": "2022-08-19T17:56:26.498673Z",
     "iopub.status.busy": "2022-08-19T17:56:26.496216Z",
     "iopub.status.idle": "2022-08-19T17:59:40.826288Z"
    },
    "papermill": {
     "duration": null,
     "end_time": null,
     "exception": null,
     "start_time": null,
     "status": "pending"
    },
    "tags": []
   },
   "outputs": [],
   "source": [
    "ggplot(data, aes(x= Lon, y = Lat)) +\n",
    "geom_point(size= 1, color = \"blue\") +\n",
    "scale_x_continuous(limits=c(min_long, max_long)) +\n",
    "scale_y_continuous(limits=c(min_lat, max_lat)) +\n",
    "theme_map() +\n",
    "ggtitle(\"NYC MAP BASES ON UBER RIDES DURING 2014(APR-SEPT)\")"
   ]
  }
 ],
 "metadata": {
  "kernelspec": {
   "display_name": "R",
   "language": "R",
   "name": "ir"
  },
  "language_info": {
   "codemirror_mode": "r",
   "file_extension": ".r",
   "mimetype": "text/x-r-source",
   "name": "R",
   "pygments_lexer": "r",
   "version": "4.0.5"
  },
  "papermill": {
   "default_parameters": {},
   "duration": 12.332218,
   "end_time": "2022-08-19T18:00:36.392069",
   "environment_variables": {},
   "exception": true,
   "input_path": "__notebook__.ipynb",
   "output_path": "__notebook__.ipynb",
   "parameters": {},
   "start_time": "2022-08-19T18:00:24.059851",
   "version": "2.3.4"
  }
 },
 "nbformat": 4,
 "nbformat_minor": 5
}
